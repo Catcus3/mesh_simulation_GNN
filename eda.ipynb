{
 "cells": [
  {
   "cell_type": "code",
   "execution_count": 1,
   "id": "a0a3fabf",
   "metadata": {},
   "outputs": [],
   "source": [
    "import torch\n",
    "import random\n",
    "import os\n",
    "import pandas as pd\n",
    "import torch_scatter\n",
    "import torch.nn as nn\n",
    "from torch.nn import Linear, Sequential, LayerNorm, ReLU\n",
    "from torch_geometric.nn.conv import MessagePassing\n",
    "from torch_geometric.data import DataLoader\n",
    "from torch_geometric.data.storage import GlobalStorage\n",
    "import numpy as np\n",
    "import time\n",
    "import torch.optim as optim\n",
    "from tqdm import trange\n",
    "import copy\n",
    "import matplotlib.pyplot as plt\n",
    "import h5py\n",
    "#import tensorflow.compat.v1 as tf\n",
    "import functools\n",
    "import json\n",
    "from torch_geometric.data import Data\n",
    "import enum"
   ]
  },
  {
   "cell_type": "code",
   "execution_count": 3,
   "id": "92393b0d",
   "metadata": {},
   "outputs": [
    {
     "name": "stdout",
     "output_type": "stream",
     "text": [
      "<class 'list'> 2995\n",
      "<class 'list'> 1\n"
     ]
    }
   ],
   "source": [
    "root_dir = os.getcwd()\n",
    "dataset_dir = os.path.join(root_dir, 'data')\n",
    "checkpoint_dir = os.path.join(root_dir, 'best_models')\n",
    "postprocess_dir = os.path.join(root_dir, 'animations')\n",
    "\n",
    "file_path = os.path.join(dataset_dir,'meshgraphnets_miniset5traj_vis.pt')\n",
    "torch.serialization.add_safe_globals([GlobalStorage])\n",
    "dataset_timesteps = torch.load(file_path, weights_only=False)  # full list (likely)\n",
    "dataset = torch.load(file_path)[:1]                            # just first element\n",
    "\n",
    "print(type(dataset_timesteps), len(dataset_timesteps))\n",
    "print(type(dataset), len(dataset))\n"
   ]
  },
  {
   "cell_type": "code",
   "execution_count": 4,
   "id": "dede60e8",
   "metadata": {},
   "outputs": [],
   "source": [
    "import sys\n",
    "from pathlib import Path\n",
    "\n",
    "sys.path.insert(0, str(Path.cwd() / \"src\"))  # add ./src to the import path"
   ]
  },
  {
   "cell_type": "code",
   "execution_count": 5,
   "id": "f03ad152",
   "metadata": {},
   "outputs": [
    {
     "data": {
      "text/plain": [
       "{'num_nodes': 1923,\n",
       " 'num_edges': 11070,\n",
       " 'x_shape': [1923, 11],\n",
       " 'edge_attr_shape': [11070, 3],\n",
       " 'y_shape': [1923, 2],\n",
       " 'x_has_nan': False,\n",
       " 'edge_has_nan': False,\n",
       " 'y_has_nan': False,\n",
       " 'deg_mean': 5.7566304206848145,\n",
       " 'deg_min': 2,\n",
       " 'deg_max': 8,\n",
       " 'v_x_mean': 1.3118444681167603,\n",
       " 'v_x_std': 0.5271742343902588,\n",
       " 'v_y_mean': 0.0006944937049411237,\n",
       " 'v_y_std': 0.22921890020370483,\n",
       " 'edge_len_mean': 0.019826507195830345,\n",
       " 'edge_len_min': 0.002250395016744733,\n",
       " 'edge_len_max': 0.04720745235681534,\n",
       " 'a_x_mean': -4.79417085647583,\n",
       " 'a_x_std': 13.742134094238281,\n",
       " 'a_y_mean': 0.02090461179614067,\n",
       " 'a_y_std': 5.087349891662598,\n",
       " 'node_type_counts': [1689, 0, 0, 0, 17, 17, 200, 0, 0]}"
      ]
     },
     "execution_count": 5,
     "metadata": {},
     "output_type": "execute_result"
    }
   ],
   "source": [
    "from dataset_utils import graph_basic_stats, dataset_basic_stats\n",
    "\n",
    "# Basic stats on the first graph only (matches your 'dataset' slice)\n",
    "g0_stats = graph_basic_stats(dataset[0])\n",
    "g0_stats"
   ]
  },
  {
   "cell_type": "code",
   "execution_count": 6,
   "id": "f6cbb8a7",
   "metadata": {},
   "outputs": [
    {
     "data": {
      "text/plain": [
       "{'num_graphs': 2995,\n",
       " 'total_nodes': 5531765,\n",
       " 'total_edges': 31781742,\n",
       " 'node_type_counts_total': [4827341, 0, 0, 0, 52113, 50915, 601396, 0, 0],\n",
       " 'first_graph_stats': {'num_nodes': 1923,\n",
       "  'num_edges': 11070,\n",
       "  'x_shape': [1923, 11],\n",
       "  'edge_attr_shape': [11070, 3],\n",
       "  'y_shape': [1923, 2],\n",
       "  'x_has_nan': False,\n",
       "  'edge_has_nan': False,\n",
       "  'y_has_nan': False,\n",
       "  'deg_mean': 5.7566304206848145,\n",
       "  'deg_min': 2,\n",
       "  'deg_max': 8,\n",
       "  'v_x_mean': 1.3118444681167603,\n",
       "  'v_x_std': 0.5271742343902588,\n",
       "  'v_y_mean': 0.0006944937049411237,\n",
       "  'v_y_std': 0.22921890020370483,\n",
       "  'edge_len_mean': 0.019826507195830345,\n",
       "  'edge_len_min': 0.002250395016744733,\n",
       "  'edge_len_max': 0.04720745235681534,\n",
       "  'a_x_mean': -4.79417085647583,\n",
       "  'a_x_std': 13.742134094238281,\n",
       "  'a_y_mean': 0.02090461179614067,\n",
       "  'a_y_std': 5.087349891662598,\n",
       "  'node_type_counts': [1689, 0, 0, 0, 17, 17, 200, 0, 0]},\n",
       " 'last_graph_stats': {'num_nodes': 1802,\n",
       "  'num_edges': 10344,\n",
       "  'x_shape': [1802, 11],\n",
       "  'edge_attr_shape': [10344, 3],\n",
       "  'y_shape': [1802, 2],\n",
       "  'x_has_nan': False,\n",
       "  'edge_has_nan': False,\n",
       "  'y_has_nan': False,\n",
       "  'deg_mean': 5.740288734436035,\n",
       "  'deg_min': 2,\n",
       "  'deg_max': 8,\n",
       "  'v_x_mean': 0.9258689880371094,\n",
       "  'v_x_std': 0.8931782245635986,\n",
       "  'v_y_mean': -0.022306470200419426,\n",
       "  'v_y_std': 0.2326326072216034,\n",
       "  'edge_len_mean': 0.020618237555027008,\n",
       "  'edge_len_min': 0.003228497691452503,\n",
       "  'edge_len_max': 0.052597835659980774,\n",
       "  'a_x_mean': 0.03789462149143219,\n",
       "  'a_x_std': 1.8401950597763062,\n",
       "  'a_y_mean': 0.010471274144947529,\n",
       "  'a_y_std': 2.02219820022583,\n",
       "  'node_type_counts': [1568, 0, 0, 0, 17, 17, 200, 0, 0]}}"
      ]
     },
     "execution_count": 6,
     "metadata": {},
     "output_type": "execute_result"
    }
   ],
   "source": [
    "# If dataset_timesteps is the full list, get overall counts\n",
    "ds_stats = dataset_basic_stats(dataset_timesteps)\n",
    "ds_stats\n"
   ]
  },
  {
   "cell_type": "code",
   "execution_count": null,
   "id": "a63c12ce",
   "metadata": {},
   "outputs": [],
   "source": []
  }
 ],
 "metadata": {
  "kernelspec": {
   "display_name": "venv311",
   "language": "python",
   "name": "python3"
  },
  "language_info": {
   "codemirror_mode": {
    "name": "ipython",
    "version": 3
   },
   "file_extension": ".py",
   "mimetype": "text/x-python",
   "name": "python",
   "nbconvert_exporter": "python",
   "pygments_lexer": "ipython3",
   "version": "3.11.0"
  }
 },
 "nbformat": 4,
 "nbformat_minor": 5
}
